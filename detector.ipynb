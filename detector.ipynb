{
 "cells": [
  {
   "cell_type": "code",
   "execution_count": 6,
   "id": "cb4b37c2",
   "metadata": {},
   "outputs": [],
   "source": [
    "from typing import NamedTuple, Union\n",
    "\n",
    "from mediapipe.python.solutions.pose import Pose"
   ]
  },
  {
   "cell_type": "code",
   "execution_count": 7,
   "id": "ec273084",
   "metadata": {},
   "outputs": [],
   "source": [
    "class Detector:\n",
    "    \n",
    "    def __init__(\n",
    "        self,\n",
    "        *,\n",
    "        model_complexity: int=1,\n",
    "        min_detection_confidence: float=0.5,\n",
    "        min_tracking_confidence: float=0.5):\n",
    "        \"\"\"\n",
    "        Initializes Detector object which uses mediapipe.solutions.pose.Pose as detection model.\n",
    "        \"\"\"\n",
    "        self.model = Pose(\n",
    "            model_complexity=model_complexity,\n",
    "            min_detection_confidence=min_detection_confidence,\n",
    "            min_tracking_confidence=min_tracking_confidence\n",
    "        )\n",
    "        return\n",
    "    \n",
    "    def detect(self, image: np.ndarray) -> Union[NamedTuple, None]:\n",
    "        \"\"\"\n",
    "        Performs pose detection on BGR image.\n",
    "        Firstly, converts image to RGB, then performs detection and then converts image back to BGR.\n",
    "        \"\"\"\n",
    "        image = cv2.cvtColor(image, cv2.COLOR_BGR2RGB)\n",
    "        image.flags.writeable = False\n",
    "        keypoints = self.model.process(image)\n",
    "        image.flags.writeable = True\n",
    "        image = cv2.cvtColor(image, cv2.COLOR_RGB2BGR)\n",
    "        return keypoints\n",
    "    \n",
    "    @staticmethod\n",
    "    def to_numpy(keypoints: NamedTuple, *, world: bool=False) -> Union[np.ndarray, None]:\n",
    "        \"\"\"\n",
    "        Converts detected keypoints to numpy array. If no keypoints were given, returns None.\n",
    "        If 'world' kwarg is set to True, converts world landmarks to numpy array.\n",
    "        Otherwise converts landmarks to numpy array.\n",
    "        \"\"\"\n",
    "        if keypoints is None:\n",
    "            return None\n",
    "        if world:\n",
    "            lst = [[point.x, point.y, point.z, point.visibility] \n",
    "                   for point in keypoints.pose_world_landmarks.landmark]\n",
    "        else:\n",
    "            lst = [[point.x, point.y, point.z, point.visibility]\n",
    "                   for point in keypoints.pose_landmarks.landmark]\n",
    "        array = np.array(lst)\n",
    "        return array\n",
    "\n",
    "    def run(self, image: np.ndarray) -> Union[np.ndarray, None]:\n",
    "        \"\"\"\n",
    "        Executes 'detect' and 'to_numpy' consecutevely.\n",
    "        \"\"\"\n",
    "        keypoints = self.detect(image)\n",
    "        array = self.to_numpy(keypoints)\n",
    "        return array"
   ]
  },
  {
   "cell_type": "code",
   "execution_count": null,
   "id": "9d2f8987",
   "metadata": {},
   "outputs": [],
   "source": []
  }
 ],
 "metadata": {
  "kernelspec": {
   "display_name": "Python 3 (ipykernel)",
   "language": "python",
   "name": "python3"
  },
  "language_info": {
   "codemirror_mode": {
    "name": "ipython",
    "version": 3
   },
   "file_extension": ".py",
   "mimetype": "text/x-python",
   "name": "python",
   "nbconvert_exporter": "python",
   "pygments_lexer": "ipython3",
   "version": "3.9.0"
  }
 },
 "nbformat": 4,
 "nbformat_minor": 5
}
